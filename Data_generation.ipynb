{
 "cells": [
  {
   "attachments": {},
   "cell_type": "markdown",
   "metadata": {},
   "source": [
    "# **Génération de dataset**"
   ]
  },
  {
   "cell_type": "code",
   "execution_count": 1,
   "metadata": {},
   "outputs": [],
   "source": [
    "# Importation des librairies\n",
    "import random\n",
    "import math\n",
    "import numpy as np\n",
    "import matplotlib.pyplot as plt\n",
    "import itertools\n",
    "import seaborn as sns\n",
    "from multiprocess import Pool\n",
    "import pickle"
   ]
  },
  {
   "cell_type": "code",
   "execution_count": 15,
   "metadata": {},
   "outputs": [],
   "source": [
    "N_ITER_SITE = 1  # Nombre de planning différents\n",
    "NITER = 30  # Nombre d'itérations par planning\n",
    "T = 100  # Nombre de pas de temps\n",
    "X = 100  # Nombre de sites\n",
    "E = 2  # Nombre d'espèces\n",
    "H = 2  # Nombre de ressources\n",
    "\n",
    "PALL = 0.05  # probabilité d'allumage d'un site éteint au temps t\n",
    "PEXT = 0.05  # probilité d'extinction d'un site allumé au temps t\n",
    "\n",
    "RES_X = np.array([0]*math.ceil(X/2)+[1]*int(X/2))"
   ]
  },
  {
   "cell_type": "code",
   "execution_count": 16,
   "metadata": {},
   "outputs": [],
   "source": [
    "# Variables liées aux espèces\n",
    "# Génération des effectifs initiaux\n",
    "N0X = 1\n",
    "\n",
    "R = 2  # Taux de croissance maximal\n",
    "MU = 0.1  # Taux de mortalité\n",
    "D = 0.1  # Taux de dispersion\n",
    "C = 0.5  # Taux de mortalité lors de la dispersion\n",
    "\n",
    "# Variables liées à l'exploitation des ressources (E = 3, H = 2)\n",
    "K0 = 200\n",
    "SP = 0\n",
    "GE = 0.8\n",
    "\n",
    "csts = [N0X,R,MU,D,C,GE,SP,K0]"
   ]
  },
  {
   "cell_type": "code",
   "execution_count": 17,
   "metadata": {},
   "outputs": [],
   "source": [
    "stock_n = np.array([[[[[0]*E]*X]*T]*NITER]*N_ITER_SITE)\n",
    "stock_cov = np.array([[[[[0]*X]*T]*NITER]*N_ITER_SITE]*4)"
   ]
  },
  {
   "cell_type": "code",
   "execution_count": 6,
   "metadata": {},
   "outputs": [
    {
     "data": {
      "text/plain": [
       "10"
      ]
     },
     "execution_count": 6,
     "metadata": {},
     "output_type": "execute_result"
    }
   ],
   "source": [
    "len(stock_n)"
   ]
  },
  {
   "cell_type": "code",
   "execution_count": 7,
   "metadata": {},
   "outputs": [],
   "source": [
    "def alea(v) :\n",
    "    \"\"\" Fonction de sélection aléatoire des sites disponibles au temps t+1\n",
    "    \n",
    "    Paramètres\n",
    "    ----------\n",
    "    v : list\n",
    "        Statut des sites au temps t (0 ou 1)\n",
    "    \n",
    "    Return\n",
    "    ------\n",
    "    list\n",
    "        Statut des sites au temps t+1 (0 ou 1)\n",
    "    \n",
    "    \"\"\"\n",
    "\n",
    "    all_t = [i for i in range(len(v)) if v[i]==1]\n",
    "    ext_t = [i for i in range(len(v)) if v[i]==0]\n",
    "\n",
    "    all_tplus = random.sample(ext_t, np.random.binomial(len(ext_t), PALL))\n",
    "    ext_tplus = random.sample(all_t, np.random.binomial(len(all_t), PEXT))\n",
    "\n",
    "    for i in all_tplus :\n",
    "        v[i] = 1\n",
    "    for i in ext_tplus :\n",
    "        v[i] = 0\n",
    "    \n",
    "    return v\n",
    "\n",
    "def interaction(n, a, i) :\n",
    "    \"\"\" Fonction d'interaction d'une espèce i parmi R espèces\n",
    "\n",
    "    Cette fonction calcule le membre 'somme(alpha_{ij}*N_j)' de l'équation de compétition de Lotka-Volterra pour l'espèce i\n",
    "\n",
    "    Paramètres\n",
    "    ----------\n",
    "    n : liste de taille R\n",
    "        Effectifs des R espèces\n",
    "    a : array de taille R*R\n",
    "        Matrice des coefficients d'interaction entre les R espèces\n",
    "    i : int\n",
    "        Identifiant de l'espèce d'intérêt\n",
    "    \n",
    "    Return\n",
    "    ------\n",
    "    float\n",
    "        somme(alpha_{ij}*N_j)\n",
    "    \n",
    "    \"\"\"\n",
    "    alpha = a[i]  # Sélection des coefficients d'interaction de l'espèce i avec les R espèces\n",
    "    inter = n*alpha  # alpha_{ij}*N_j\n",
    "    return sum(inter)\n",
    "def reproduction(n, a, i, x, c) :\n",
    "    \"\"\" Fonction de croissance d'une espèce en compétition avec d'autres sur une génération\n",
    "\n",
    "    Cette fonction calcule l'effectif après reproduction d'une population suivant une croissance logistique, en compétition\n",
    "    de Lotka-Volterra avec d'autres espèces\n",
    "\n",
    "    Paramètres\n",
    "    ----------\n",
    "    n : list\n",
    "        Effectif des espèces au temps t\n",
    "    i : int\n",
    "        Identifiant de l'espèce d'intérêt\n",
    "    \n",
    "    Return\n",
    "    ------\n",
    "    int\n",
    "        Effectif de la population après reproduction et mortalité au temps t\n",
    "    \n",
    "    \"\"\"\n",
    "    n = list(n[x])\n",
    "    if c[5][x][i]==0 :\n",
    "        return 0\n",
    "    else :\n",
    "        return int((n[i] + n[i]*c[1][i]*(1-(interaction(n, a, i)/c[5][x][i])))*(1-c[2][i]))\n",
    "def dynamique_intra(n, x, a, c) :\n",
    "    \"\"\" Fonction de dynamique de R espèces sur une génération à l'intérieur d'un site x\n",
    "\n",
    "    Cette fonction calcule l'effectif à la génération suivante pour R espèces suivant une croissance logistique\n",
    "    sur un site x, avec de la dispersion entre les X sites\n",
    "\n",
    "    Paramètres\n",
    "    ----------\n",
    "    n : int\n",
    "        Effectif de la population au temps t au site x\n",
    "    x : int\n",
    "        Identifiant du site x\n",
    "    \n",
    "    Return\n",
    "    ------\n",
    "    array de taille 2\n",
    "        Effectif de chaque espèce après reproduction et dispersion, et nombre de migrants issus du site x\n",
    "    \n",
    "    \"\"\"\n",
    "    nb = np.array([reproduction(n, a, i, x, c) for i in range(E)])  # Effectif après reproduction\n",
    "    nb[nb < 0] = 0\n",
    "    d = np.array([int(c[3][i]*nb[i]) for i in range(E)])\n",
    "\n",
    "    return [nb-d,d]\n",
    "def effectif(n) : \n",
    "    \"\"\" Fonction de tri des effectif des espèces\n",
    "\n",
    "    Cette fonction traite les données issues de la fonction dynamique_intra et regroupe d'une part les effectifs de \n",
    "    chaque espèce dans chaque site dans une matrice R*X, et d'autre part les pools de migrant de chaque espèce dans une liste\n",
    "\n",
    "    Paramètres\n",
    "    ----------\n",
    "    n : array de taille X*R*2\n",
    "        Effectif de chaque espèces et migrants issus de chaque site\n",
    "    \n",
    "    Return\n",
    "    ------\n",
    "    list(array, list)\n",
    "        Liste avec la matrice des effectifs de chaque espèce dans chaque site, et la liste des pools de migrant de chaque espèce\n",
    "    \n",
    "    \"\"\"\n",
    "    site = np.array([n[x][0] for x in range(X)])\n",
    "    pool = np.array([n[x][1] for x in range(X)])\n",
    "    pool = list(np.sum(pool,0))\n",
    "    return list([site, pool])\n",
    "def migration(m, i, c) :\n",
    "    \"\"\" Fonction de migration d'une espèce i entre X sites\n",
    "\n",
    "    Cette fonction répartit selon une distribution multinomiale un pool de migrants entre X sites\n",
    "\n",
    "    Paramètres\n",
    "    ----------\n",
    "    m : int\n",
    "        Pool de migrants\n",
    "    \n",
    "    Return\n",
    "    ------\n",
    "    list\n",
    "        Effectifs de migrants dans chacun des sites\n",
    "    \n",
    "    \"\"\"\n",
    "    m = m[i] - int(m[i]*c[4][i])  # Application du taux de mortalité pendant la dispersion\n",
    "    return np.random.multinomial(m, [1/X]*X)\n",
    "def dynamique_inter(n, a, c) :\n",
    "    \"\"\" Fonction de dynamique d'une population sur une génération entre plusieurs sites\n",
    "\n",
    "    Cette fonction calcule l'effectif à la génération suivante d'une population suivant une croissance logistique\n",
    "    sur plusieurs sites, avec de la dispersion entre les sites\n",
    "\n",
    "    Paramètres\n",
    "    ----------\n",
    "    n : list\n",
    "        Effectif de la population sur chaque site au temps t\n",
    "    \n",
    "    Return\n",
    "    ------\n",
    "    array de taille 2\n",
    "        Effectif de la population après reproduction et dispersion dans chaque site, et nombre de migrants de chaque espèce\n",
    "    \n",
    "    \"\"\"\n",
    "    intra = np.array([dynamique_intra(n, x, a, c) for x in range(X)])  # Calcul des effectifs et des migrants de chaque site\n",
    "    eff = effectif(intra)  # Tri des effectifs\n",
    "    d = eff[1]  # Sélection des pools de migrants\n",
    "    mig = np.array([migration(d,i,c) for i in range(E)]).T  # Répartition des migrants entre les sites\n",
    "    n_plus = eff[0]+ mig  # Effectifs de chaque espèce dans chaque site à la fin de la génération\n",
    "    return [n_plus, d]\n",
    "\n",
    "\n",
    "\n",
    "def modif_interaction(value, c) :\n",
    "    \"\"\" Fonction de modification d'une variable globale dans un intervalle de valeurs\n",
    "    \n",
    "    Paramètres\n",
    "    ----------\n",
    "    var : str\n",
    "        Variable à modifier\n",
    "    \n",
    "    value : list\n",
    "        Valeurs à tester\n",
    "    \n",
    "    Return\n",
    "    ------\n",
    "    figure\n",
    "    \n",
    "    \"\"\"\n",
    "    list_tot_pop_res1 = []\n",
    "    list_tot_pop_res2 = []\n",
    "\n",
    "    N0_res1 = np.array([c[0][i] for i in range(X) if RES_X[i]==0])\n",
    "    N0_res2 = np.array([c[0][i] for i in range(X) if RES_X[i]==1])\n",
    "\n",
    "    for val1 in range(len(value)) :\n",
    "        for val2 in range(len(value)) :\n",
    "\n",
    "            a = np.array([[1.0]*E]*E)\n",
    "            a[0,1] = value[val1]\n",
    "            a[1,0] = value[val2]\n",
    "\n",
    "            list_tot_pop_iter_site_res1 = []\n",
    "            list_tot_pop_iter_site_res2 = []\n",
    "\n",
    "\n",
    "            for s in range(N_ITER_SITE) :\n",
    "\n",
    "                list_iter_res1 = []\n",
    "                list_iter_res2 = []\n",
    "\n",
    "                for iter in range(NITER) :\n",
    "                    list_n = [c[0]]\n",
    "                    list_n_res1 = [N0_res1]  # Liste des effectifs de la population sur chaque site à chaque pas de temps\n",
    "                    list_n_res2 = [N0_res2]\n",
    "\n",
    "                    for gen in range(T-1) :\n",
    "                        n_plus = dynamique_inter(list_n[gen],a,c)[0]\n",
    "                        n_plus = np.array([n_plus.T[e]*LISTE_DISPO[s][gen] for e in range(E)])\n",
    "                        n_plus = n_plus.T\n",
    "                        n_plus_res1 = np.array([n_plus[i] for i in range(X) if RES_X[i]==0])\n",
    "                        n_plus_res2 = np.array([n_plus[i] for i in range(X) if RES_X[i]==1])\n",
    "                        \n",
    "                        list_n_res1 = list_n_res1 + [n_plus_res1]\n",
    "                        list_n_res2 = list_n_res2 + [n_plus_res2]\n",
    "                        \n",
    "                        list_n = list_n + [n_plus]\n",
    "\n",
    "                    list_n_res1 = np.array(list_n_res1).T\n",
    "                    list_n_res2 = np.array(list_n_res2).T\n",
    "                    list_iter_res1 = list_iter_res1 + [list_n_res1]\n",
    "                    list_iter_res2 = list_iter_res2 + [list_n_res2]\n",
    "\n",
    "                list_iter_res1 = np.array(list_iter_res1)\n",
    "                list_iter_res2 = np.array(list_iter_res2)\n",
    "\n",
    "                pop_tot_iter_res1 = np.sum(list_iter_res1, axis = 2)\n",
    "                pop_tot_iter_res2 = np.sum(list_iter_res2, axis = 2)\n",
    "\n",
    "                list_tot_pop_iter_site_res1 = list_tot_pop_iter_site_res1 + [pop_tot_iter_res1]\n",
    "                list_tot_pop_iter_site_res2 = list_tot_pop_iter_site_res2 + [pop_tot_iter_res2]\n",
    "\n",
    "            list_tot_pop_res1 = list_tot_pop_res1 + [list_tot_pop_iter_site_res1]\n",
    "            list_tot_pop_res2 = list_tot_pop_res2 + [list_tot_pop_iter_site_res2]\n",
    "\n",
    "    return([np.array(list_tot_pop_res1), np.array(list_tot_pop_res2)])"
   ]
  },
  {
   "cell_type": "code",
   "execution_count": 18,
   "metadata": {},
   "outputs": [],
   "source": [
    "liste_dispo = []\n",
    "for s in range(N_ITER_SITE) :\n",
    "    states = [random.randint(0,1) for i in range(X)]  # état initial des sites\n",
    "    dispo = [states]\n",
    "    for gen in range(T-1) :\n",
    "        state = np.array(alea(dispo[gen])).T\n",
    "        while np.mean(state) < 0.45 or np.mean(state) > 0.55 :\n",
    "            state = np.array(alea(dispo[gen])).T\n",
    "        dispo = dispo + [state]\n",
    "    liste_dispo = liste_dispo + [dispo]"
   ]
  },
  {
   "cell_type": "code",
   "execution_count": 19,
   "metadata": {},
   "outputs": [],
   "source": [
    "for i in range(N_ITER_SITE) :\n",
    "    for j in range(NITER) :\n",
    "        for gen in range(T) :\n",
    "            stock_cov[0][i][j][gen] = liste_dispo[i][gen]\n",
    "            stock_cov[1][i][j][gen] = RES_X\n",
    "            stock_cov[2][i][j][gen] = np.array([gen]*X)\n",
    "            stock_cov[3][i][j][gen] = np.linspace(1,X,X)\n"
   ]
  },
  {
   "cell_type": "code",
   "execution_count": 20,
   "metadata": {},
   "outputs": [],
   "source": [
    "results_cov = np.array([[[[np.array([stock_cov[0][i][j][t][x],stock_cov[1][i][j][t][x],t,x,j,i]) \n",
    "                         for x in range(X)] for t in range(T)]for j in range(NITER)] \n",
    "                         for i in range(N_ITER_SITE)]).reshape(X*T*NITER*N_ITER_SITE,6)\n"
   ]
  },
  {
   "cell_type": "code",
   "execution_count": 21,
   "metadata": {},
   "outputs": [],
   "source": [
    "n0 = np.array([[csts[0]]*E]*X)\n",
    "r = [csts[1]]*E  # Taux de croissance maximal\n",
    "mu = [csts[2]]*E  # Taux de mortalité\n",
    "d = [csts[3]]*E  # Taux de dispersion\n",
    "c = [csts[4]]*E  # Taux de mortalité lors de la dispersion\n",
    "\n",
    "# Variables liées à l'exploitation des ressources (E = 3, H = 2)\n",
    "res_exp = np.array([[csts[5], csts[6]],[csts[5], 1]])\n",
    "k_res = np.array([[csts[7]]*E]*H) * res_exp  # Capacité d'accueil des ressources\n",
    "k = [k_res[RES_X[x]] for x in range(X)]  # Capacité d'accueil du site pour chaque espèce\n",
    "const = [n0,r,mu,d,c,k]\n",
    "a = np.array([[1.0]*E]*E)\n",
    "a[0,1] = 2\n",
    "a[1,0] = 2"
   ]
  },
  {
   "cell_type": "code",
   "execution_count": 22,
   "metadata": {},
   "outputs": [],
   "source": [
    "for i in range(N_ITER_SITE) :\n",
    "    for j in range(NITER) :\n",
    "        stock_n[i][j][0] = np.array([[csts[0]*liste_dispo[i][0][x]]*E for x in range(X)])\n",
    "        for t in range(T-1) :\n",
    "            stock_n[i][j][t+1] = dynamique_inter(stock_n[i][j][t],a,const)[0]*np.array([stock_cov[0][i][j][t+1]]*2).T.reshape(X,2)\n",
    "\n",
    "results_n = stock_n.reshape(X*T*NITER*N_ITER_SITE,2)\n",
    "sum_stock_n = np.array([np.sum(stock_n[0][0][t].T, axis=1) for t in range(T)]).T"
   ]
  },
  {
   "cell_type": "code",
   "execution_count": 24,
   "metadata": {},
   "outputs": [
    {
     "data": {
      "image/png": "[encoded data removed]",
      "text/plain": [
       "<Figure size 640x480 with 1 Axes>"
      ]
     },
     "metadata": {},
     "output_type": "display_data"
    }
   ],
   "source": [
    "fig, ax = plt.subplots(1, 1)\n",
    "ax.plot(sum_stock_n[0])\n",
    "ax.plot(sum_stock_n[1])\n",
    "plt.show()"
   ]
  },
  {
   "cell_type": "code",
   "execution_count": 23,
   "metadata": {},
   "outputs": [],
   "source": [
    "np.savetxt(\"abundance.csv\", results_n, delimiter=\",\")\n",
    "np.savetxt(\"covariable.csv\", results_cov, delimiter=\",\")"
   ]
  },
  {
   "cell_type": "code",
   "execution_count": 18,
   "metadata": {},
   "outputs": [
    {
     "data": {
      "text/plain": [
       "array([46.784138, 31.820532])"
      ]
     },
     "execution_count": 18,
     "metadata": {},
     "output_type": "execute_result"
    }
   ],
   "source": [
    "np.mean(results_n, axis=0)"
   ]
  }
 ],
 "metadata": {
  "kernelspec": {
   "display_name": "Python 3",
   "language": "python",
   "name": "python3"
  },
  "language_info": {
   "codemirror_mode": {
    "name": "ipython",
    "version": 3
   },
   "file_extension": ".py",
   "mimetype": "text/x-python",
   "name": "python",
   "nbconvert_exporter": "python",
   "pygments_lexer": "ipython3",
   "version": "3.10.7"
  },
  "orig_nbformat": 4,
  "vscode": {
   "interpreter": {
    "hash": "aee8b7b246df8f9039afb4144a1f6fd8d2ca17a180786b69acc140d282b71a49"
   }
  }
 },
 "nbformat": 4,
 "nbformat_minor": 2
}
